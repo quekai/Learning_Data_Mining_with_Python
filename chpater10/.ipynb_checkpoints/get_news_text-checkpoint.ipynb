{
 "cells": [
  {
   "cell_type": "code",
   "execution_count": 10,
   "metadata": {},
   "outputs": [],
   "source": [
    "CLIENT_ID = \"27h_IMp2XwMceQ\"\n",
    "CLIENT_SECRET = \"O9mU-pimDWuOnJNoZbBCuuWRGGQ\""
   ]
  },
  {
   "cell_type": "code",
   "execution_count": 11,
   "metadata": {},
   "outputs": [],
   "source": [
    "USER_AGENT = \"python:<quekai_cp10> (by /u/<quekai>)\""
   ]
  },
  {
   "cell_type": "code",
   "execution_count": 12,
   "metadata": {},
   "outputs": [],
   "source": [
    "USERNAME = \"<username>\"\n",
    "PASSWORD = \"<password>\"\n",
    "import requests"
   ]
  },
  {
   "cell_type": "code",
   "execution_count": 13,
   "metadata": {},
   "outputs": [],
   "source": [
    "def login(username, password):\n",
    "    if password is None:\n",
    "        password = getpass.getpass(\"Enter reddit password for username {}:\".format(username))\n",
    "    headers = {\"User-Agent\": USER_AGENT}\n",
    "    client_auth = requests.auth.HTTPBasicAuth(CLIENT_ID, CLIENT_SECRET)\n",
    "    post_data = {\"grant_type\": \"password\", \"username\":username, \"password\":password}\n",
    "    response = requests.post(\"https://www.reddit.com/api/v1/access_token\", auth=client_auth, data=post_data, headers=headers)\n",
    "    return response.json()\n",
    "    "
   ]
  },
  {
   "cell_type": "code",
   "execution_count": 14,
   "metadata": {},
   "outputs": [],
   "source": [
    "token = login(USERNAME, PASSWORD)"
   ]
  },
  {
   "cell_type": "code",
   "execution_count": 15,
   "metadata": {},
   "outputs": [
    {
     "name": "stdout",
     "output_type": "stream",
     "text": [
      "{'token_type': 'bearer', 'scope': '*', 'access_token': '275570065758-RD7fU_OofhIjK2qrTFqtnIO1bfw', 'expires_in': 3600}\n"
     ]
    }
   ],
   "source": [
    "print(token)"
   ]
  },
  {
   "cell_type": "code",
   "execution_count": 16,
   "metadata": {},
   "outputs": [],
   "source": [
    "subreddit = \"worldnews\""
   ]
  },
  {
   "cell_type": "code",
   "execution_count": 17,
   "metadata": {},
   "outputs": [],
   "source": [
    "url = \"https://oauth.reddit.com/r/{}\".format(subreddit)"
   ]
  },
  {
   "cell_type": "code",
   "execution_count": 18,
   "metadata": {},
   "outputs": [],
   "source": [
    "headers = {\"Authorization\": \"bearer {}\".format(token['access_token']), \"User-Agent\": USER_AGENT}"
   ]
  },
  {
   "cell_type": "code",
   "execution_count": 19,
   "metadata": {},
   "outputs": [],
   "source": [
    "response = requests.get(url,headers=headers)"
   ]
  },
  {
   "cell_type": "code",
   "execution_count": 22,
   "metadata": {},
   "outputs": [
    {
     "name": "stdout",
     "output_type": "stream",
     "text": [
      "<Response [200]>\n"
     ]
    }
   ],
   "source": [
    "print(response)"
   ]
  },
  {
   "cell_type": "code",
   "execution_count": 23,
   "metadata": {},
   "outputs": [],
   "source": [
    "result = response.json()"
   ]
  },
  {
   "cell_type": "code",
   "execution_count": 24,
   "metadata": {},
   "outputs": [
    {
     "name": "stdout",
     "output_type": "stream",
     "text": [
      "Woman who accused Indian politician of rape hit by truck after father dies in police station\n",
      "A Canadian court on Monday ruled that it was \"false, misleading and deceptive\" to label wines made in Jewish settlements in the occupied West Bank as a \"Product of Israel\"\n",
      "Disturbing Report Shows Environmental Activists Killed Each Week: 'A devastating tally released Monday counts 164 environmentalists killed for their efforts in 2018. And that number is probably an underestimation.'\n",
      "U.S. Senate fails to override Trump veto of bill stopping Saudi weapons sales\n",
      "Prison riot in Brazil leaves 16 inmates decapitated and dozens more killed\n",
      "Rockstar Games has paid no UK corporation tax in 10 years\n",
      "Trump aide submitted drafts of 2016 'America First' energy speech to UAE for edits, emails show\n",
      "Accused 9/11 mastermind open to testimony against Saudi Arabia\n",
      "Gigantic, mysterious radiation leak traced to facility in Russia\n",
      "Taiwanese contribute helmets to Hong Kong protesters\n",
      "Hundreds of reindeer starve to death on Arctic islands 'due to climate change': Researchers have never found so many carcasses in Svalbard in 40 years of monitoring animal's population\n",
      "Atheist parents are taking their children's primary school to the UK High Court, claiming that biblical re-enactments and praying in assembly are a breach of their human rights.\n",
      "Deforestation in the Amazon is shooting up, but Brazil's president calls the data 'a lie'\n",
      "Boris Johnson’s new Brexit chief wants to scrap Theresa May’s commitment to keep workers’ rights\n",
      "Calgary Cut $60M In Social Services One Day After Endorsing $275M For A New Flames Arena\n",
      "Ethiopia plants more than 350 million trees in 12 hours\n",
      "Tiger Census: India achieves target of doubling tiger count 4 years before deadline\n",
      "China’s first ‘cyber-dissident’ jailed for 12 years -Huang Qi, who ran a website reporting on sensitive topics, is accused of leaking state secrets\n",
      "Charred forests not growing back as expected after wildfires, researchers say | Certain tree species are having a tough time growing back in areas affected by wildfires due to warming temperatures — a discovery that could have major implications for both forestry and long-term climate targets\n",
      "Beijing castigates 'evil' protesters in rare statement urging Hong Kongers to 'get over' political concerns\n",
      "Riots in Russia: Thousand arrests at Moscow election protest\n",
      "Thousands of chickens die in heatwave at farm supplying major UK supermarkets\n",
      "Boy, eight, dies after he and his mother are pushed in front of train in Germany\n",
      "Pound sinks to 28-month low on Brexit fears\n",
      "Johnson refuses to meet EU leaders unless they scrap backstop\n"
     ]
    }
   ],
   "source": [
    "for story in result['data']['children']:\n",
    "    print(story['data']['title'])"
   ]
  },
  {
   "cell_type": "code",
   "execution_count": 25,
   "metadata": {},
   "outputs": [],
   "source": [
    "from time import sleep"
   ]
  },
  {
   "cell_type": "code",
   "execution_count": 30,
   "metadata": {},
   "outputs": [],
   "source": [
    "def get_links(subreddit, token, n_pages=5):\n",
    "    stories = []\n",
    "    after = None\n",
    "    for page_number in range(n_pages):\n",
    "        headers = {\"Authorization\": \"bearer {}\".format(token['access_token']), \"User-Agent\": USER_AGENT}\n",
    "        url = \"https://oauth.reddit.com/r/{}?limit=100\".format(subreddit)\n",
    "        if after:\n",
    "            url += \"&after={}\".format(after)\n",
    "        response = requests.get(url,headers=headers)\n",
    "        result = response.json()\n",
    "        after = result['data']['after']\n",
    "        sleep(2)\n",
    "        stories.extend([(story['data']['title'], story['data']['url'], story['data']['score']) for story in result['data']['children']])\n",
    "    return stories"
   ]
  },
  {
   "cell_type": "code",
   "execution_count": 31,
   "metadata": {},
   "outputs": [],
   "source": [
    "stories = get_links(\"worldnews\", token)"
   ]
  },
  {
   "cell_type": "code",
   "execution_count": 32,
   "metadata": {},
   "outputs": [
    {
     "name": "stdout",
     "output_type": "stream",
     "text": [
      "500\n"
     ]
    }
   ],
   "source": [
    "print(len(stories))"
   ]
  },
  {
   "cell_type": "code",
   "execution_count": 48,
   "metadata": {},
   "outputs": [],
   "source": [
    "import os\n",
    "import hashlib\n",
    "import codecs\n",
    "data_floder = \"raw/\""
   ]
  },
  {
   "cell_type": "code",
   "execution_count": 49,
   "metadata": {},
   "outputs": [
    {
     "name": "stdout",
     "output_type": "stream",
     "text": [
      "HTTPSConnectionPool(host='reliefweb.int', port=443): Max retries exceeded with url: /report/india/india-monsoon-floods-emergency-plan-action-epoa-dref-n-mdrin023 (Caused by SSLError(SSLError(\"bad handshake: SysCallError(-1, 'Unexpected EOF')\",),))\n",
      "('Connection aborted.', RemoteDisconnected('Remote end closed connection without response',))\n"
     ]
    }
   ],
   "source": [
    "number_errors = 0\n",
    "for title, url, score in stories:\n",
    "    output_filename = hashlib.md5(url.encode()).hexdigest()\n",
    "    fullpath = os.path.join(data_floder, output_filename + \".txt\")\n",
    "    headers = {\n",
    "    'User-Agent': 'Mozilla/4.0(compatible; MSIE 5.5; Windows NT)'\n",
    "    }\n",
    "    try:\n",
    "        response = requests.get(url, headers=headers)\n",
    "        data = response.text\n",
    "        with codecs.open(fullpath, 'w', 'utf8') as outf:\n",
    "            outf.write(data)\n",
    "    except Exception as e:\n",
    "        number_errors += 1\n",
    "        print(e)"
   ]
  },
  {
   "cell_type": "code",
   "execution_count": 50,
   "metadata": {},
   "outputs": [],
   "source": [
    "filenames = [os.path.join(data_floder, filename) for filename in os.listdir(data_floder)]"
   ]
  },
  {
   "cell_type": "code",
   "execution_count": 52,
   "metadata": {},
   "outputs": [],
   "source": [
    "text_output_folder = \"textonly/\""
   ]
  },
  {
   "cell_type": "code",
   "execution_count": 60,
   "metadata": {},
   "outputs": [],
   "source": [
    "from lxml import etree\n",
    "import lxml"
   ]
  },
  {
   "cell_type": "code",
   "execution_count": 61,
   "metadata": {},
   "outputs": [],
   "source": [
    "skip_node_types = [\"script\", \"head\", \"style\", etree.Comment]"
   ]
  },
  {
   "cell_type": "code",
   "execution_count": 77,
   "metadata": {},
   "outputs": [],
   "source": [
    "def get_text_from_node(node):\n",
    "    if len(node) == 0:\n",
    "        if node.text and len(node.text) > 100:\n",
    "            return node.text\n",
    "        else:\n",
    "            return \"\"\n",
    "    else:\n",
    "        results = (get_text_from_node(child) for child in node if child.tag not in skip_node_types)\n",
    "        return \"\\n\".join(r for r in results if len(r) > 1)\n",
    "def get_text_from_file(filename):\n",
    "    with codecs.open(filename, encoding='utf8') as inf:\n",
    "        html_tree = etree.parse(inf, etree.HTMLParser())\n",
    "    return get_text_from_node(html_tree.getroot())"
   ]
  },
  {
   "cell_type": "code",
   "execution_count": 78,
   "metadata": {},
   "outputs": [],
   "source": [
    "for filename in os.listdir(data_floder):\n",
    "    text = get_text_from_file(os.path.join(data_floder, filename))\n",
    "    with codecs.open(os.path.join(text_output_folder, filename), 'w', 'utf8') as outf:\n",
    "        outf.write(text)"
   ]
  },
  {
   "cell_type": "code",
   "execution_count": null,
   "metadata": {},
   "outputs": [],
   "source": []
  }
 ],
 "metadata": {
  "kernelspec": {
   "display_name": "Python 3",
   "language": "python",
   "name": "python3"
  },
  "language_info": {
   "codemirror_mode": {
    "name": "ipython",
    "version": 3
   },
   "file_extension": ".py",
   "mimetype": "text/x-python",
   "name": "python",
   "nbconvert_exporter": "python",
   "pygments_lexer": "ipython3",
   "version": "3.5.4"
  }
 },
 "nbformat": 4,
 "nbformat_minor": 2
}
